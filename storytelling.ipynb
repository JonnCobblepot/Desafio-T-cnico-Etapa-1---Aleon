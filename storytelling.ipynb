{
 "cells": [
  {
   "cell_type": "markdown",
   "metadata": {},
   "source": [
    "# Desafio Técnico Etapa 1 - Aleon\n",
    "\n",
    "Neste arquivo colocarei toda a preparação e passo a passo do desenvolvimento deste desafio, o qual é referente ao planejamento, escolha dos dados e o que se diz, *Storytelling* deste programa. Aqui contextualizarei o motivo da escolha dos dados e toda a narração e descrição do processo analítico.\n",
    "```py\n",
    "```"
   ]
  },
  {
   "cell_type": "markdown",
   "metadata": {},
   "source": [
    "### Objetivo deste Desafio\n",
    "\n",
    "1. Extrair dados de uma dessas API: Marvel, NASA, Gutendex, FDA, PokeAPI, Senado Federal\n",
    "2. Formatar os dados desta API de forma tabular utilizando a biblioteca Pandas\n",
    "3. Criar gráficos, análises, tabelas, sobre os dados extraídos, utilizando quaisquer bibliotecas (Seaborn. Matplotlib, etc). De 3 a 6 itens.\n",
    "```py\n",
    "```"
   ]
  },
  {
   "cell_type": "markdown",
   "metadata": {},
   "source": [
    "### Minhas informações: Candidato João Pedro Fernandes\n",
    "\n",
    "**Nome:** João Pedro Fernandes \\\n",
    "**Idade:** 20 anos, nasci em 08/01/2004 \\\n",
    "**Curso:** Bacharelado em Física Computacional na USP em São Carlos (Previsão de formatura: dez/2026) \\\n",
    "**Celular:** +55 16 99993-0311 \\\n",
    "**E-mail:** joao.cobblepot7@gmail.com \\\n",
    "**GitHub:** https://github.com/JonnCobblepot \\\n",
    "**LinkedIn:** [www.linkedin.com/in/joão-pedro-fernandes-1aa333268](https://www.linkedin.com/in/jo%C3%A3o-pedro-fernandes-1aa333268/) \n",
    "```py\n",
    "```"
   ]
  },
  {
   "cell_type": "markdown",
   "metadata": {},
   "source": [
    "### Primeiro Passo: Versionamento (Git)\n",
    "\n",
    "Inicialmente, utilizei os comandos: `git init`, `git add .`, `git commit -m \"descrição\"`. Estes são responsáveis por inicializar o repositório, adicionar o arquivo na área de stage e depois salvar as alterações, respectivamente.\n",
    "\n",
    "Após isso, criei no meu GitHub um repositório chamado Desafio-Tecnico-Etapa-1--Aleon, e assim vinculei com a minha máquina e enviei ao repositório do GitHub as alterações do projeto com os seguintes comandos: `git remote add origin https://github.com/JonnCobblepot/Desafio-Tecnico-Etapa-1--Aleon`, `git push origin main`.\n",
    "\n",
    "O link do repositório que criei para desenvolver este projeto e ter o versionamento e controle de versão de seu projeto é o que se segue: \\\n",
    "https://github.com/JonnCobblepot/Desafio-Tecnico-Etapa-1--Aleon \n",
    "\n",
    "Assim, com tais comandos do Git, vou desenvolvendo passo a passo este desafio técnico.\n",
    "```py\n",
    "```"
   ]
  },
  {
   "cell_type": "markdown",
   "metadata": {},
   "source": [
    "### Escolha da API MARVEL\n",
    "\n",
    "Após verificar os possíveis sites com suas APIs, decidi escolher o API MARVEL. Primeiramente por um interesse pessoal, que sou muito fã da MARVEL e os super-heróis desde criança, e segundo porque entrei no site e vi que era de fácil acesso e visualização dos dados.\n",
    "\n",
    "Com isso criei minha conta gratuita no _MyDisney_ referente ao site https://developer.marvel.com e li toda a documentação interativa da API. Como um grande fã, consegui ver ali a possibilidade de navegar entre os personagens, seus nomes e IDs, além de suas aparições em quadrinhos, desenhos, filmes e séries, e isso contribuiu para a minha escolha dessa API. Afinal também, é o gosto do cliente (no caso, eu mesmo), mesmo se fosse difícil eu ainda escolheria esse.\n",
    "\n",
    "Após colocar minhas informações no site, obtive minha `public key` e `private key`, as quais são utilizadas para autenticação entre cliente e servidor para poder acessar os dados.\n",
    "\n",
    "Em relação ao servidor, para testar os endpoints, seguindo o que está na documentação, precisa de 3 parâmetros:\n",
    "- `apikey:` passagem para a Marvel da sua chave pública\n",
    "- `ts:` registro de data e hora que se altera a cada solicitação\n",
    "- `hash:` um parêmetro que utiliza das informações de chave privada e pública, além do ts, resumindo a autenticação. (o valor de hash é o resumo md5(ts+privateKey+publicKey)).\n",
    "\n",
    "O parâmetro ts tem que ser calculado na hora da aplicação, e o hash deve ser calculado pela concatenação dos outros parâmetros. Para posteriormente ser usado numa chamada de exemplo, substituindo nos locais adequados:\n",
    "\n",
    "`http://gateway.marvel.com/v1/public/comics?ts=COLOCA_TS&apikey=COLOCA_PUBLIC_KEY&hash=COLOCA_HASH`\n",
    "\n",
    "Para poder obter os parâmetros ts e hash, calculei numa fórmula simples em Python e pesquisando vi que há uma biblioteca para hash, que facilitou na manipulação das informações:\n"
   ]
  },
  {
   "cell_type": "code",
   "execution_count": 3,
   "metadata": {},
   "outputs": [
    {
     "name": "stdout",
     "output_type": "stream",
     "text": [
      "ts: 1734579218.2950974\n",
      "Hash: 974d7340b1ccd17beac903a7c645bd17\n"
     ]
    }
   ],
   "source": [
    "import hashlib\n",
    "import time\n",
    "\n",
    "# Chaves publicas e privadas (coloquei as minhas para obter meus parêmtros e testar o endpoint)\n",
    "PUBLIC_KEY = \"\"\n",
    "PRIVATE_KEY = \"\"\n",
    "\n",
    "# Valor do ts (timestamp) sendo a data e horário atual\n",
    "ts = str(time.time())\n",
    "\n",
    "# Soma para concatenar no hash\n",
    "soma_hash = ts + PRIVATE_KEY + PUBLIC_KEY\n",
    "\n",
    "# Gerando o hash pelo md5 visto na documentação da Marvel\n",
    "hash = hashlib.md5(soma_hash.encode()).hexdigest()\n",
    "\n",
    "# Printando os valores\n",
    "print(\"ts:\", ts)\n",
    "print(\"Hash:\", hash)"
   ]
  },
  {
   "cell_type": "markdown",
   "metadata": {},
   "source": [
    "Dentro dos endpoints disponíveis para pegar (GET), eu escolhi o dos personagens (characters) dado o acesso público: `/v1/public/characters`. No exemplo dado na documentação `http://gateway.marvel.com/v1/public/comics.....` eu então substituiria 'comics' por 'characters'. Assim, colocando isso e os parâmetros mencionados, é gerada a URL de requisição ao servidor.\n",
    "\n",
    "Com isso, finalmente tenho acesso aos dados, e como o próprio nome já diz API = Application Programming Interface, conectamos ao sistema da Marvel para obter seus dados, autentificando através dos parêmetros para que somente devs autorizados o utilizem. A URL gerada é uma requisição HTTP, sendo o endereço que os servidores da Marvel de onde eu estou tirando os dados entende quem está fazendo isso (no caso, eu) e quais dados estou vendo deles e utilizando.\n",
    "\n",
    "Antes de implementar o código para manipulação dos dados, é testada a URL no próprio navegador para ver se está retornando os dados. E tudo funcionou corretamente com os dados acessíveis. Não coloco aqui o printscreen da tela porque há informações sensíveis que não devem ser compartilhadas, como principalmente a chave privada.\n",
    "```py\n",
    "```"
   ]
  },
  {
   "cell_type": "markdown",
   "metadata": {},
   "source": [
    "### URL da Requisição da API da Marvel\n",
    "\n",
    "Agora é a etapa de realizar a requisição através do código. Então primeiramente, transformei a manipulação de parâmetros em uma função que será utilizada, retornando a URL da Requisição da API da Marvel. O código ficou da seguinte forma:"
   ]
  },
  {
   "cell_type": "code",
   "execution_count": 6,
   "metadata": {},
   "outputs": [
    {
     "name": "stdout",
     "output_type": "stream",
     "text": [
      "URL: http://gateway.marvel.com/v1/public/characters?limit=5&ts=1734580996.1423204&apikey=f957679ebe331b5cb3de7d6bc8531e39&hash=e1b0106d86330fff6660bdd257513029\n"
     ]
    }
   ],
   "source": [
    "import hashlib\n",
    "import time\n",
    "\n",
    "def generate_parameter():\n",
    "\n",
    "    # Chaves publicas e privadas (coloquei as minhas para obter meus parâmetros e testar o endpoint)\n",
    "    PUBLIC_KEY = \"...coloque aqui sua chave pública...\"\n",
    "    PRIVATE_KEY = \"...coloque aqui sua chave privada...\"\n",
    "\n",
    "    # Valor do ts (timestamp) sendo a data e horário atual\n",
    "    ts = str(time.time())\n",
    "\n",
    "    # Soma para concatenar no hash\n",
    "    soma_hash = ts + PRIVATE_KEY + PUBLIC_KEY\n",
    "\n",
    "    # Gerando o hash pelo md5 visto na documentação da Marvel\n",
    "    hash = hashlib.md5(soma_hash.encode()).hexdigest()\n",
    "\n",
    "    URL = f'http://gateway.marvel.com/v1/public/characters?limit=10&ts={ts}&apikey={PUBLIC_KEY}&hash={hash}'\n",
    "\n",
    "    return URL\n",
    "\n",
    "# Printando os valores\n",
    "#print(\"ts:\", ts)\n",
    "#print(\"Hash:\", hash)\n",
    "#print(\"apikey:\", PUBLIC_KEY)\n",
    "print(\"URL:\", generate_parameter())"
   ]
  },
  {
   "cell_type": "markdown",
   "metadata": {},
   "source": [
    "Eu apenas não coloquei as minhas chaves (PUBLIC_KEY e PRIVATE_KEY) aqui expostas, entretanto o código está testado e funcionando, obtendo a URL de requisição corretamente, conforme pode-se ver na saída que deixei desta célula do código, com a URL formada, a qual pode ser conferida requisição.\n",
    "\n",
    "Agora, para conferir a requisição, utilizarei finalmente a biblioteca **requests** e assim envia tais requisições e abstrai dados do servidor.\n",
    "\n",
    " **ATENÇÃO:**\n",
    "\n",
    "Eu demorei nesta parte do código por dois motivos.\n",
    "- O primeiro motivo é que a biblioteca requests não estava sendo compatível com a minha versão do Python. Entretanto, ela funcionou na versão _Python 3.12.2_ e assim consegui continuar no desenvolvimento do código.\n",
    "\n",
    "- O segundo motivo é referente a URL gerada. Na documentação da API da Marvel, é colocado como exemplo de URL iniciando com o protocolo 'https, o qual é um protocolo de Internet utilizado para enviar dados de forma segura (Hypertext Transfer Protocol Secure). E eu entendo a utilização dele, ele possui um viés de segurança e garante uma conexão segura entre o cliente e o servidor, no caso eu tentando conectar com a API para acessar seus dados, e com isso ele autentifica a requisição e a certifica também. Entretanto começou a dar muitos erros na saída, referentes ao SSL do servidor, o qual é um certificado que garante a integridade e a segurança tanto dos dados, quanto de ambas as partes da conexão. Tentei resolver este problema de inúmeras formas e nada funcionava. Então tive a ideia de substituir o 'https' da URL pelo 'http', e assim eu removi a necessidade de criptografar e certificar a conexão. É claro que essa mudança torna a conexão insegura, porém foi o jeito que encontrei de resolver este problema. E é claro também que o ideal seria utilizar o 'https', mas este é um problema a se resolver posteriormente, visto que não sei por agora o motivo da certificação e criptografia do vínculo do HTTP com o SLL estar dando erro. Neste código então, eu trabalharei com o HTTP na URL.\n",
    "\n",
    "Abaixo se pode conferir a requisição, com uma estrutura condicional se tudo deu certo ou não."
   ]
  },
  {
   "cell_type": "code",
   "execution_count": 7,
   "metadata": {},
   "outputs": [
    {
     "name": "stdout",
     "output_type": "stream",
     "text": [
      "A Requisição URL foi um sucesso!\n"
     ]
    }
   ],
   "source": [
    "import requests\n",
    "\n",
    "# Obtendo a URL\n",
    "URL = generate_parameter()\n",
    "\n",
    "# Fzendo a requisição\n",
    "response = requests.get(URL)\n",
    "\n",
    "# Verificando se a requisição foi um sucesso ou não\n",
    "if response.status_code == 200:\n",
    "    data = response.json()  # Dados retornados pela API\n",
    "    print(\"A Requisição URL foi um sucesso!\")\n",
    "else:\n",
    "    print(f\"A Requisição URL falhou. Erro na requisição: {response.status_code}\")\n",
    "    print(response.text)"
   ]
  },
  {
   "cell_type": "markdown",
   "metadata": {},
   "source": [
    "Como pode-se ver na saída acima, a requisição URL foi um sucesso, o que significa que posso extrair os dados, acessá-los e trabalhar com eles.\n",
    "```py\n",
    "```"
   ]
  },
  {
   "cell_type": "markdown",
   "metadata": {},
   "source": [
    "### Acessando os dados da API da Marvel\n",
    "\n",
    "Para acessar os dados da API, os quais já obtivemos a requisição URL bem sucedida, tem-se que armazenar os valores privindos do JSON. Para essa extração dos dados, criei a função _extraction_data()_, adicionando a requisição URL dentro dela e já pegando os dados da API. Entratanto, quantos dados/personagens eu posso extrair para que eu utilize? Isso pela documentação e análise da requisição, pode ser definido na própria formação da URL. Assim, modifiquei como se vê a seguir, adicionando o parâmetro para quantidade de personagens (characters) que serão acessados:\n",
    "\n",
    "```py\n",
    "# Indica quantos personagens/dados serão requisitados\n",
    "n_characters = str(10)\n",
    "\n",
    "# Formatação e formação da URL de Requisição\n",
    "URL = f'http://gateway.marvel.com/v1/public/characters?limit={n_characters}&ts={ts}&apikey={PUBLIC_KEY}&hash={hash}'\n",
    "```\n",
    "Como pode-se ver no exemplo acima, será mostrado na saída os 10 primeiros personagens.\n",
    "Eu estou pegando o endpoint \"characters\", mas na API da Marvel não há só este, há \"comics\", \"creators\", \"events\" e outros que farão se obter outros tipos de dados.\n",
    "Dando continuidade, abaixo está a função que me referi para extrair os dados:"
   ]
  },
  {
   "cell_type": "code",
   "execution_count": 2,
   "metadata": {},
   "outputs": [],
   "source": [
    "# Função para extrair os dados da API da Marvel\n",
    "def extraction_data():\n",
    "\n",
    "    # Obtendo a URL\n",
    "    URL = generate_parameter()\n",
    "\n",
    "    # Fzendo a requisição\n",
    "    response = requests.get(URL)\n",
    "\n",
    "    # Verificando se a requisição foi um sucesso ou não\n",
    "    if response.status_code == 200:\n",
    "\n",
    "        # Dados retornados pela API\n",
    "        data = response.json() \n",
    "        print(\"A Requisição URL foi um sucesso!\")\n",
    "\n",
    "        # Retorna os dados e seus resultados, extraídos do formato JSON da API\n",
    "        return data['data']['results']\n",
    "    \n",
    "    else:\n",
    "        print(f\"A Requisição URL falhou. Erro na requisição: {response.status_code}\")\n",
    "        print(response.text)\n",
    "\n",
    "        return None"
   ]
  },
  {
   "cell_type": "markdown",
   "metadata": {},
   "source": [
    "Há uma condicional novamente e se foi um sucesso a requisição é então armazenado os dados. Na documentação interativa da API Marvel, há diversas classes que podem ser extraídas dos dados, como em relação aos personagens, se pode obter: nome, descrição, id, comics, series e muito mais. Para este caso, construí o output deste código para obter, por enquanto, o nome e a descrição dos personagens apenas, em ordem alfabética. Como pode se ver abaixo:\n",
    "\n",
    "**ATENÇÃO:**\n",
    "\n",
    "Não esqueça de colocar a sua chave pública e privada no código."
   ]
  },
  {
   "cell_type": "code",
   "execution_count": 1,
   "metadata": {},
   "outputs": [
    {
     "name": "stdout",
     "output_type": "stream",
     "text": [
      "Dados extraídos com sucesso!\n",
      "-----------------------------------PERSONAGENS MARVEL-----------------------------------\n",
      "Nome: 3-D Man \n",
      "Descrição: \n",
      "----------------------------------------------------------------------------------------\n",
      "Nome: A-Bomb (HAS) \n",
      "Descrição: Rick Jones has been Hulk's best bud since day one, but now he's more than a friend...he's a teammate! Transformed by a Gamma energy explosion, A-Bomb's thick, armored skin is just as strong and powerful as it is blue. And when he curls into action, he uses it like a giant bowling ball of destruction! \n",
      "----------------------------------------------------------------------------------------\n",
      "Nome: A.I.M. \n",
      "Descrição: AIM is a terrorist organization bent on destroying the world.\n",
      "----------------------------------------------------------------------------------------\n",
      "Nome: Aaron Stack \n",
      "Descrição: \n",
      "----------------------------------------------------------------------------------------\n",
      "Nome: Abomination (Emil Blonsky) \n",
      "Descrição: Formerly known as Emil Blonsky, a spy of Soviet Yugoslavian origin working for the KGB, the Abomination gained his powers after receiving a dose of gamma radiation similar to that which transformed Bruce Banner into the incredible Hulk.\n",
      "----------------------------------------------------------------------------------------\n",
      "Nome: Abomination (Ultimate) \n",
      "Descrição: \n",
      "----------------------------------------------------------------------------------------\n",
      "Nome: Absorbing Man \n",
      "Descrição: \n",
      "----------------------------------------------------------------------------------------\n",
      "Nome: Abyss \n",
      "Descrição: \n",
      "----------------------------------------------------------------------------------------\n",
      "Nome: Abyss (Age of Apocalypse) \n",
      "Descrição: \n",
      "----------------------------------------------------------------------------------------\n",
      "Nome: Adam Destine \n",
      "Descrição: \n",
      "----------------------------------------------------------------------------------------\n"
     ]
    }
   ],
   "source": [
    "# Dados da Marvel (nesse caso, referente aos personagens/characters, mas poderia ser comics ou outro trocando na URL)\n",
    "marvel_data = extraction_data()\n",
    "\n",
    "\n",
    "# Verificando se os dados foram obtidos com sucesso\n",
    "if marvel_data is not None and len(marvel_data) > 0:\n",
    "    print(\"Dados extraídos com sucesso!\")\n",
    "    print(\"-----------------------------------PERSONAGENS MARVEL-----------------------------------\")\n",
    "\n",
    "    for character in marvel_data:\n",
    "        print(f\"Nome: {character['name']} \\nDescrição: {character['description']}\")\n",
    "        print(\"----------------------------------------------------------------------------------------\")\n",
    "\n",
    "else:\n",
    "    print(\"Falha ao extrair os dados!\")"
   ]
  },
  {
   "cell_type": "markdown",
   "metadata": {},
   "source": [
    "Como pode-se ver na saída acima, tudo funcionando corretamente no código! Assim temos com sucesso o acesso e extração dos dados da API da Marvel\n",
    "```py\n",
    "```"
   ]
  },
  {
   "cell_type": "markdown",
   "metadata": {},
   "source": [
    "### Formatando os dados da API Marvel de forma tabular utilizando a biblioteca _Pandas_\n",
    "\n",
    "Eu havia formatado os dados na própria saída mesmo, como visto no output acima, entretanto, para melhor organização e manipulação dos dados, seguindo também um dos requisitos deste desafio de código, utilizarei a biblioteca _Pandas_.\n",
    "Vou adicionar mais classes aos dados, agora estarei mostrando o id, o nome, a descrição (breve história do personagem) e data da última modificação deste dado da API.\n",
    "Assim, segue abaixo a estrutura que utilizei para mostrar os dados de forma tabular com _Pandas_:"
   ]
  },
  {
   "cell_type": "code",
   "execution_count": 3,
   "metadata": {},
   "outputs": [
    {
     "name": "stdout",
     "output_type": "stream",
     "text": [
      "Dados extraídos com sucesso!\n",
      "-----------------------------------PERSONAGENS MARVEL-----------------------------------\n",
      "\n",
      "Dados na formatação tabular com pantas:\n",
      "        ID                        Nome  \\\n",
      "0  1011334                     3-D Man   \n",
      "1  1017100                A-Bomb (HAS)   \n",
      "2  1009144                      A.I.M.   \n",
      "3  1010699                 Aaron Stack   \n",
      "4  1009146  Abomination (Emil Blonsky)   \n",
      "5  1016823      Abomination (Ultimate)   \n",
      "6  1009148               Absorbing Man   \n",
      "7  1009149                       Abyss   \n",
      "8  1010903   Abyss (Age of Apocalypse)   \n",
      "9  1011266                Adam Destine   \n",
      "\n",
      "                                           Descrição             Modificado em  \n",
      "0                                                     2014-04-29T14:18:17-0400  \n",
      "1  Rick Jones has been Hulk's best bud since day ...  2013-09-18T15:54:04-0400  \n",
      "2  AIM is a terrorist organization bent on destro...  2013-10-17T14:41:30-0400  \n",
      "3                                                     1969-12-31T19:00:00-0500  \n",
      "4  Formerly known as Emil Blonsky, a spy of Sovie...  2014-06-27T19:39:07-0400  \n",
      "5                                                     2012-07-10T19:11:52-0400  \n",
      "6                                                     2016-05-25T12:04:23-0400  \n",
      "7                                                     2014-04-29T14:10:43-0400  \n",
      "8                                                     1969-12-31T19:00:00-0500  \n",
      "9                                                     1969-12-31T19:00:00-0500  \n"
     ]
    }
   ],
   "source": [
    "import pandas as pd\n",
    "\n",
    "\n",
    "# Verificando se os dados foram obtidos com sucesso e caso sim, os mostra na saída, agora de forma tabular\n",
    "if marvel_data is not None and len(marvel_data) > 0:\n",
    "    print(\"Dados extraídos com sucesso!\")\n",
    "    print(\"-----------------------------------PERSONAGENS MARVEL-----------------------------------\")\n",
    "\n",
    "    # Uma list comprehension já adiantando a parte de simplificação do código, aqui a respeito da renomeação das classes dos characters\n",
    "    marvel_table = [{\"ID\": character['id'], \"Nome\": character['name'], \"Descrição\": character['description'], \"Modificado em\": character['modified']}\n",
    "        for character in marvel_data]\n",
    "\n",
    "    # Passando para um DataFrame do Pandas\n",
    "    df_marvel = pd.DataFrame(marvel_table)\n",
    "\n",
    "    # Mostrando os dados na tela de forma tabular\n",
    "    print(\"\\nDados na formatação tabular com pantas:\")\n",
    "    print(df_marvel)\n",
    "\n",
    "else:\n",
    "    print(\"Falha ao extrair os dados!\")"
   ]
  },
  {
   "cell_type": "markdown",
   "metadata": {},
   "source": [
    "Como pode-se perceber acima, foi tudo tabulado certinho utilizando o _Pandas_. Como os dados referente a cada classe do personagem é grande, então na saída acabou pulando uma linh/tabela para mostrar as outras colunas, mas seguindo o mesmo índice, do 0 ao 9 (10 personagens.)"
   ]
  }
 ],
 "metadata": {
  "kernelspec": {
   "display_name": "Python 3",
   "language": "python",
   "name": "python3"
  },
  "language_info": {
   "codemirror_mode": {
    "name": "ipython",
    "version": 3
   },
   "file_extension": ".py",
   "mimetype": "text/x-python",
   "name": "python",
   "nbconvert_exporter": "python",
   "pygments_lexer": "ipython3",
   "version": "3.12.2"
  }
 },
 "nbformat": 4,
 "nbformat_minor": 2
}
