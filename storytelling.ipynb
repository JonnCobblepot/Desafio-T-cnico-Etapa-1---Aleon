{
 "cells": [
  {
   "cell_type": "markdown",
   "metadata": {},
   "source": [
    "# Desafio Técnico Etapa 1 - Aleon\n",
    "\n",
    "Neste arquivo colocarei toda a preparação e passo a passo do desenvolvimento deste desafio, o qual é referente ao planejamento, escolha dos dados e o que se diz, *Storytelling* deste programa. Aqui contextualizarei o motivo da escolha dos dados e toda a narração e descrição do processo analítico.\n",
    "```py\n",
    "```"
   ]
  },
  {
   "cell_type": "markdown",
   "metadata": {},
   "source": [
    "### Objetivo deste Desafio\n",
    "\n",
    "1. Extrair dados de uma dessas API: Marvel, NASA, Gutendex, FDA, PokeAPI, Senado Federal\n",
    "2. Formatar os dados desta API de forma tabular utilizando a biblioteca Pandas\n",
    "3. Criar gráficos, análises, tabelas, sobre os dados extraídos, utilizando quaisquer bibliotecas (Seaborn. Matplotlib, etc). De 3 a 6 itens.\n",
    "```py\n",
    "```"
   ]
  },
  {
   "cell_type": "markdown",
   "metadata": {},
   "source": [
    "### Minhas informações: Candidato João Pedro Fernandes\n",
    "\n",
    "**Nome:** João Pedro Fernandes \\\n",
    "**Idade:** 20 anos, nasci em 08/01/2004 \\\n",
    "**Curso:** Bacharelado em Física Computacional na USP em São Carlos (Previsão de formatura: dez/2026) \\\n",
    "**Celular:** +55 16 99993-0311 \\\n",
    "**E-mail:** joao.cobblepot7@gmail.com \\\n",
    "**GitHub:** https://github.com/JonnCobblepot \\\n",
    "**LinkedIn:** [www.linkedin.com/in/joão-pedro-fernandes-1aa333268](https://www.linkedin.com/in/jo%C3%A3o-pedro-fernandes-1aa333268/) \n",
    "```py\n",
    "```"
   ]
  },
  {
   "cell_type": "markdown",
   "metadata": {},
   "source": [
    "### Primeiro Passo: Versionamento (Git)\n",
    "\n",
    "Inicialmente, utilizei os comandos: `git init`, `git add .`, `git commit -m \"descrição\"`. Estes são responsáveis por inicializar o repositório, adicionar o arquivo na área de stage e depois salvar as alterações, respectivamente.\n",
    "\n",
    "Após isso, criei no meu GitHub um repositório chamado Desafio-Tecnico-Etapa-1--Aleon, e assim vinculei com a minha máquina e enviei ao repositório do GitHub as alterações do projeto com os seguintes comandos: `git remote add origin https://github.com/JonnCobblepot/Desafio-Tecnico-Etapa-1--Aleon`, `git push origin main`.\n",
    "\n",
    "O link do repositório que criei para desenvolver este projeto e ter o versionamento e controle de versão de seu projeto é o que se segue: \\\n",
    "https://github.com/JonnCobblepot/Desafio-Tecnico-Etapa-1--Aleon \n",
    "\n",
    "Assim, com tais comandos do Git, vou desenvolvendo passo a passo este desafio técnico.\n",
    "```py\n",
    "```"
   ]
  },
  {
   "cell_type": "markdown",
   "metadata": {},
   "source": [
    "### Escolha da API MARVEL\n",
    "\n",
    "Após verificar os possíveis sites com suas APIs, decidi escolher o API MARVEL. Primeiramente por um interesse pessoal, que sou muito fã da MARVEL e os super-heróis desde criança, e segundo porque entrei no site e vi que era de fácil acesso e visualização dos dados.\n",
    "\n",
    "Com isso criei minha conta gratuita no _MyDisney_ referente ao site https://developer.marvel.com e li toda a documentação interativa da API. Como um grande fã, consegui ver ali a possibilidade de navegar entre os personagens, seus nomes e IDs, além de suas aparições em quadrinhos, desenhos, filmes e séries, e isso contribuiu para a minha escolha dessa API. Afinal também, é o gosto do cliente (no caso, eu mesmo), mesmo se fosse difícil eu ainda escolheria esse.\n",
    "\n",
    "Após colocar minhas informações no site, obtive minha `public key` e `private key`, as quais são utilizadas para autenticação entre cliente e servidor para poder acessar os dados.\n",
    "\n",
    "Em relação ao servidor, para testar os endpoints, seguindo o que está na documentação, precisa de 3 parâmetros:\n",
    "- `apikey:` passagem para a Marvel da sua chave pública\n",
    "- `ts:` registro de data e hora que se altera a cada solicitação\n",
    "- `hash:` um parêmetro que utiliza das informações de chave privada e pública, além do ts, resumindo a autenticação. (o valor de hash é o resumo md5(ts+privateKey+publicKey)).\n",
    "\n",
    "O parâmetro ts tem que ser calculado na hora da aplicação, e o hash deve ser calculado pela concatenação dos outros parâmetros. Para posteriormente ser usado numa chamada de exemplo, substituindo nos locais adequados:\n",
    "\n",
    "`http://gateway.marvel.com/v1/public/comics?ts=COLOCA_TS&apikey=COLOCA_PUBLIC_KEY&hash=COLOCA_HASH`\n",
    "\n",
    "Para poder obter os parâmetros ts e hash, calculei numa fórmula simples em Python e pesquisando vi que há uma biblioteca para hash, que facilitou na manipulação das informações:\n"
   ]
  },
  {
   "cell_type": "code",
   "execution_count": 13,
   "metadata": {},
   "outputs": [
    {
     "name": "stdout",
     "output_type": "stream",
     "text": [
      "ts: 1734536024.602999\n",
      "Hash: 82e9ce3e073beeb587108a228de1e7bb\n"
     ]
    }
   ],
   "source": [
    "import hashlib\n",
    "import time\n",
    "\n",
    "# Chaves publicas e privadas (coloquei as minhas para obter meus parêmtros e testar o endpoint)\n",
    "PUBLIC_KEY = \"\"\n",
    "PRIVATE_KEY = \"\"\n",
    "\n",
    "# Valor do ts (timestamp) sendo a data e horário atual\n",
    "ts = str(time.time())\n",
    "\n",
    "# Soma para concatenar no hash\n",
    "soma_hash = ts + PRIVATE_KEY + PUBLIC_KEY\n",
    "\n",
    "# Gerando o hash pelo md5 visto na documentação da Marvel\n",
    "hash = hashlib.md5(soma_hash.encode()).hexdigest()\n",
    "\n",
    "# Printando os valores\n",
    "print(\"ts:\", ts)\n",
    "print(\"Hash:\", hash)"
   ]
  },
  {
   "cell_type": "markdown",
   "metadata": {},
   "source": [
    "Dentro dos endpoints disponíveis para pegar (GET), eu escolhi o dos personagens (characters) dado o acesso público: `/v1/public/characters`. No exemplo dado na documentação `http://gateway.marvel.com/v1/public/comics.....` eu então substituiria 'comics' por 'characters'. Assim, colocando isso e os parâmetros mencionados, é gerada a URL de requisição ao servidor.\n",
    "\n",
    "Com isso, finalmente tenho acesso aos dados, e como o próprio nome já diz API = Application Programming Interface, conectamos ao sistema da Marvel para obter seus dados, autentificando através dos parêmetros para que somente devs autorizados o utilizem. A URL gerada é uma requisição HTTP, sendo o endereço que os servidores da Marvel de onde eu estou tirando os dados entende quem está fazendo isso (no caso, eu) e quais dados estou vendo deles e utilizando.\n",
    "\n",
    "Antes de implementar o código para manipulação dos dados, é testada a URL no próprio navegador para ver se está retornando os dados. E tudo funcionou corretamente com os dados acessíveis. Não coloco aqui o printscreen da tela porque há informações sensíveis que não devem ser compartilhadas, como principalmente a chave privada."
   ]
  }
 ],
 "metadata": {
  "kernelspec": {
   "display_name": "Python 3",
   "language": "python",
   "name": "python3"
  },
  "language_info": {
   "codemirror_mode": {
    "name": "ipython",
    "version": 3
   },
   "file_extension": ".py",
   "mimetype": "text/x-python",
   "name": "python",
   "nbconvert_exporter": "python",
   "pygments_lexer": "ipython3",
   "version": "3.12.8"
  }
 },
 "nbformat": 4,
 "nbformat_minor": 2
}
